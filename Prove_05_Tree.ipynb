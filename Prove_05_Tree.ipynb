{
 "cells": [
  {
   "cell_type": "code",
   "execution_count": 22,
   "metadata": {},
   "outputs": [],
   "source": [
    "import numpy as np\n",
    "import h5py as h5\n",
    "import scipy as sp\n",
    "import pandas as pd\n",
    "%matplotlib inline\n",
    "import matplotlib.pyplot as plt\n",
    "import graphviz as gviz\n",
    "import pydotplus as pdp\n",
    "import collections as clcs\n",
    "\n",
    "import ML_func_defs as ML\n",
    "from sklearn import datasets\n",
    "from sklearn.model_selection import train_test_split\n",
    "from sklearn.naive_bayes import GaussianNB\n",
    "from sklearn.neighbors import KNeighborsClassifier\n",
    "from sklearn.neighbors import KNeighborsRegressor\n",
    "from sklearn.metrics import accuracy_score\n",
    "from sklearn import tree"
   ]
  },
  {
   "cell_type": "markdown",
   "metadata": {},
   "source": [
    "# Prove 05 - Experimentation with Trees"
   ]
  },
  {
   "cell_type": "markdown",
   "metadata": {},
   "source": [
    "## Car dataset"
   ]
  },
  {
   "cell_type": "markdown",
   "metadata": {},
   "source": [
    "This has \n",
    "- Categorical data\n",
    "- Classification"
   ]
  },
  {
   "cell_type": "markdown",
   "metadata": {
    "heading_collapsed": true
   },
   "source": [
    "### Part 1 - Organize the data"
   ]
  },
  {
   "cell_type": "code",
   "execution_count": 36,
   "metadata": {
    "hidden": true
   },
   "outputs": [
    {
     "name": "stderr",
     "output_type": "stream",
     "text": [
      "/home/LoganTheKid/anaconda3/lib/python3.6/site-packages/sklearn/model_selection/_split.py:2179: FutureWarning: From version 0.21, test_size will always complement train_size unless both are specified.\n",
      "  FutureWarning)\n"
     ]
    }
   ],
   "source": [
    "car_data = pd.read_csv(\"car.txt\", names=['price','maint_cost', 'doors',\n",
    "                                         'persons','lug_boot','safety','quality_of_deal'],\n",
    "                       na_values=[\"?\"])\n",
    "\n",
    "car_data = np.array( car_data.dropna(axis=0) )\n",
    "\n",
    "car_train  = np.array( car_data[:,range(0,6)] )\n",
    "car_target = np.array( car_data[:,6]          )\n",
    "\n",
    "# Label encoding stuff\n",
    "price     = {'vhigh':0,'high':1, 'med':2,  'low':3 }\n",
    "doors     = {    '2':0,   '3':1,   '4':2,'5more':3 }\n",
    "persons   = {    '2':0,   '4':1,'more':3 }\n",
    "lug_booty = {'small':0, 'med':1, 'big':2 }\n",
    "safety    = {  'low':0, 'med':1,'high':2 }\n",
    "quality   = { 'unacc':0, 'acc':1, 'good':2, 'vgood':3 }\n",
    "\n",
    "for i,[k0,k1,k2,k3,k4,k5] in enumerate(car_train):\n",
    "    car_train[i][0] = price[     car_train[i][0] ]\n",
    "    car_train[i][1] = price[     car_train[i][1] ]\n",
    "    car_train[i][2] = doors[     car_train[i][2] ]\n",
    "    car_train[i][3] = persons[   car_train[i][3] ]\n",
    "    car_train[i][4] = lug_booty[ car_train[i][4] ]\n",
    "    car_train[i][5] = safety[    car_train[i][5] ]\n",
    "\n",
    "for i, k in enumerate(car_target):\n",
    "    car_target[i] = quality[ car_target[i] ] \n",
    "\n",
    "\n",
    "# I chose 95% because vgood and good make up only about  ~6% of the data.\n",
    "# Because of this small percentage the accuracy will change everytime you run it. \n",
    "X_train, X_test, y_train, y_test = train_test_split(car_train, car_target, train_size= 0.95)\n",
    "X_train = X_train.astype('int')\n",
    "y_train = y_train.astype('int')\n",
    "X_test = X_test.astype('int')\n",
    "y_test = y_test.astype('int')"
   ]
  },
  {
   "cell_type": "markdown",
   "metadata": {
    "heading_collapsed": true
   },
   "source": [
    "### Part 2 -  Generate png file to visualize the tree"
   ]
  },
  {
   "cell_type": "code",
   "execution_count": 33,
   "metadata": {
    "hidden": true
   },
   "outputs": [
    {
     "data": {
      "text/plain": [
       "True"
      ]
     },
     "execution_count": 33,
     "metadata": {},
     "output_type": "execute_result"
    }
   ],
   "source": [
    "tree_clsfr = tree.DecisionTreeClassifier()\n",
    "tree_clsfr.fit(X_train, y_train)\n",
    "tree_clsfr.score(X_test, y_test)\n",
    "\n",
    "tree_graph = tree.export_graphviz(tree_clsfr)\n",
    "graph = pdp.graph_from_dot_data(tree_graph)\n",
    "colors = ('turquoise', 'orange')\n",
    "edges = clcs.defaultdict(list)\n",
    "\n",
    "for edge in graph.get_edge_list():\n",
    "    edges[edge.get_source()].append(int(edge.get_destination()))\n",
    "\n",
    "for edge in edges:\n",
    "    edges[edge].sort()    \n",
    "    for i in range(2):\n",
    "        dest = graph.get_node(str(edges[edge][i]))[0]\n",
    "        dest.set_fillcolor(colors[i])\n",
    "\n",
    "graph.write_png('car_tree.png')"
   ]
  },
  {
   "cell_type": "markdown",
   "metadata": {
    "heading_collapsed": true
   },
   "source": [
    "### Part 3 - Trying different approaches for catagorical data"
   ]
  },
  {
   "cell_type": "code",
   "execution_count": 77,
   "metadata": {
    "hidden": true
   },
   "outputs": [
    {
     "name": "stdout",
     "output_type": "stream",
     "text": [
      "label encoding:  0.9884393063583815\n",
      "one-hot encoding:  0.9479768786127167\n"
     ]
    },
    {
     "name": "stderr",
     "output_type": "stream",
     "text": [
      "/home/LoganTheKid/anaconda3/lib/python3.6/site-packages/sklearn/model_selection/_split.py:2179: FutureWarning: From version 0.21, test_size will always complement train_size unless both are specified.\n",
      "  FutureWarning)\n",
      "/home/LoganTheKid/anaconda3/lib/python3.6/site-packages/sklearn/model_selection/_split.py:2179: FutureWarning: From version 0.21, test_size will always complement train_size unless both are specified.\n",
      "  FutureWarning)\n"
     ]
    }
   ],
   "source": [
    "car_data = pd.read_csv(\"car.txt\", names=['price','maint_cost', 'doors',\n",
    "                                         'persons','lug_boot','safety','quality_of_deal'],\n",
    "                       na_values=[\"?\"])\n",
    "\n",
    "##################\n",
    "# LABEL ENCODING\n",
    "##################\n",
    "car_data = np.array(   car_data.dropna(axis=0) )\n",
    "car_train  = np.array( car_data[:,range(0,6)]  )\n",
    "car_target = np.array( car_data[:,6]           )\n",
    "\n",
    "price     = {'vhigh':0,'high':1, 'med':2,  'low':3 }\n",
    "doors     = {    '2':0,   '3':1,   '4':2,'5more':3 }\n",
    "persons   = {    '2':0,   '4':1,'more':3 }\n",
    "lug_booty = {'small':0, 'med':1, 'big':2 }\n",
    "safety    = {  'low':0, 'med':1,'high':2 }\n",
    "quality   = { 'unacc':0, 'acc':1, 'good':2, 'vgood':3 }\n",
    "\n",
    "for i,[k0,k1,k2,k3,k4,k5] in enumerate(car_train):\n",
    "    car_train[i][0] = price[     car_train[i][0] ]\n",
    "    car_train[i][1] = price[     car_train[i][1] ]\n",
    "    car_train[i][2] = doors[     car_train[i][2] ]\n",
    "    car_train[i][3] = persons[   car_train[i][3] ]\n",
    "    car_train[i][4] = lug_booty[ car_train[i][4] ]\n",
    "    car_train[i][5] = safety[    car_train[i][5] ]\n",
    "\n",
    "for i, k in enumerate(car_target):\n",
    "    car_target[i] = quality[ car_target[i] ] \n",
    "# I chose 95% because vgood and good make up only about  ~6% of the data.\n",
    "# Because of this small percentage the accuracy will change everytime you run it. \n",
    "X_train, X_test, y_train, y_test = train_test_split(car_train, car_target, train_size= 0.90)\n",
    "X_train = X_train.astype('int')\n",
    "y_train = y_train.astype('int')\n",
    "X_test = X_test.astype('int')\n",
    "y_test = y_test.astype('int')\n",
    "\n",
    "tree_clsfr = tree.DecisionTreeClassifier()\n",
    "tree_clsfr.fit(X_train, y_train)\n",
    "print(\"label encoding: \",tree_clsfr.score(X_test, y_test) )\n",
    "\n",
    "######################\n",
    "# ONE-HOT-ENCODING\n",
    "######################\n",
    "pd_car_data = pd.read_csv(\"car.txt\", names=['price','maint_cost', 'doors',\n",
    "                                         'persons','lug_boot','safety','quality_of_deal'],\n",
    "                       na_values=[\"?\"])\n",
    "pd_car_data = pd.get_dummies(pd_car_data, columns=['price','maint_cost', 'doors',\n",
    "                                                'persons','lug_boot','safety'])\n",
    "hot_car_data = np.array( pd_car_data.dropna(axis=0) )\n",
    "    \n",
    "hot_car_train  = np.array( hot_car_data[:,range(1,22)] )\n",
    "hot_car_target = np.array( hot_car_data[:,0]          )\n",
    "\n",
    "# label encode the target\n",
    "quality   = { 'unacc':0, 'acc':1, 'good':2, 'vgood':3 }\n",
    "for i, k in enumerate(hot_car_target):\n",
    "    hot_car_target[i] = quality[ hot_car_target[i] ] \n",
    "\n",
    "X_train, X_test, y_train, y_test = train_test_split(hot_car_train, hot_car_target, train_size= 0.90)\n",
    "X_train = X_train.astype('int')\n",
    "y_train = y_train.astype('int')\n",
    "X_test = X_test.astype('int')\n",
    "y_test = y_test.astype('int')\n",
    "\n",
    "\n",
    "tree_clsfr = tree.DecisionTreeClassifier()\n",
    "tree_clsfr.fit(X_train, y_train)\n",
    "print(\"one-hot encoding: \",tree_clsfr.score(X_test, y_test) )"
   ]
  },
  {
   "cell_type": "markdown",
   "metadata": {
    "heading_collapsed": true
   },
   "source": [
    "### Part 5 - Pruning the tree"
   ]
  },
  {
   "cell_type": "code",
   "execution_count": 111,
   "metadata": {
    "hidden": true
   },
   "outputs": [
    {
     "name": "stdout",
     "output_type": "stream",
     "text": [
      "For max_depth = 3, the accuracy = 0.712644.5\n",
      "For max_depth = 4, the accuracy = 0.839080.5\n",
      "For max_depth = 5, the accuracy = 0.816092.5\n",
      "For max_depth = 6, the accuracy = 0.942529.5\n",
      "For max_depth = 7, the accuracy = 0.908046.5\n",
      "For max_depth = 8, the accuracy = 0.965517.5\n",
      "For max_depth = 9, the accuracy = 0.931034.5\n",
      "For max_depth = 10, the accuracy = 0.977011.5\n",
      "For max_depth = 11, the accuracy = 0.977011.5\n",
      "For max_depth = 12, the accuracy = 0.977011.5\n",
      "For max_depth = 13, the accuracy = 0.977011.5\n"
     ]
    },
    {
     "name": "stderr",
     "output_type": "stream",
     "text": [
      "/home/LoganTheKid/anaconda3/lib/python3.6/site-packages/sklearn/model_selection/_split.py:2179: FutureWarning: From version 0.21, test_size will always complement train_size unless both are specified.\n",
      "  FutureWarning)\n"
     ]
    }
   ],
   "source": [
    "car_data = pd.read_csv(\"car.txt\", names=['price','maint_cost', 'doors',\n",
    "                                         'persons','lug_boot','safety','quality_of_deal'],\n",
    "                       na_values=[\"?\"])\n",
    "\n",
    "car_data = np.array( car_data.dropna(axis=0) )\n",
    "\n",
    "car_train  = np.array( car_data[:,range(0,6)] )\n",
    "car_target = np.array( car_data[:,6]          )\n",
    "\n",
    "# Label encoding stuff\n",
    "price     = {'vhigh':0,'high':1, 'med':2,  'low':3 }\n",
    "doors     = {    '2':0,   '3':1,   '4':2,'5more':3 }\n",
    "persons   = {    '2':0,   '4':1,'more':3 }\n",
    "lug_booty = {'small':0, 'med':1, 'big':2 }\n",
    "safety    = {  'low':0, 'med':1,'high':2 }\n",
    "quality   = { 'unacc':0, 'acc':1, 'good':2, 'vgood':3 }\n",
    "\n",
    "for i,[k0,k1,k2,k3,k4,k5] in enumerate(car_train):\n",
    "    car_train[i][0] = price[     car_train[i][0] ]\n",
    "    car_train[i][1] = price[     car_train[i][1] ]\n",
    "    car_train[i][2] = doors[     car_train[i][2] ]\n",
    "    car_train[i][3] = persons[   car_train[i][3] ]\n",
    "    car_train[i][4] = lug_booty[ car_train[i][4] ]\n",
    "    car_train[i][5] = safety[    car_train[i][5] ]\n",
    "\n",
    "for i, k in enumerate(car_target):\n",
    "    car_target[i] = quality[ car_target[i] ] \n",
    "\n",
    "\n",
    "# I chose 95% because vgood and good make up only about  ~6% of the data.\n",
    "# Because of this small percentage the accuracy will change everytime you run it. \n",
    "X_train, X_test, y_train, y_test = train_test_split(car_train, car_target, train_size= 0.95)\n",
    "X_train = X_train.astype('int')\n",
    "y_train = y_train.astype('int')\n",
    "X_test = X_test.astype('int')\n",
    "y_test = y_test.astype('int')\n",
    "\n",
    "for X in np.arange(3,14):\n",
    "    tree_clsfr = tree.DecisionTreeClassifier(max_depth=X)\n",
    "    tree_clsfr.fit(X_train, y_train)\n",
    "    print(\"For max_depth = %d, the accuracy = %f.5\" % (X, tree_clsfr.score(X_test, y_test) ) )"
   ]
  },
  {
   "cell_type": "markdown",
   "metadata": {},
   "source": [
    "## Iris Data"
   ]
  },
  {
   "cell_type": "markdown",
   "metadata": {},
   "source": [
    "This has \n",
    "- Numeric data\n",
    "- Classification"
   ]
  },
  {
   "cell_type": "markdown",
   "metadata": {
    "heading_collapsed": true
   },
   "source": [
    "### Part 1 - Organize the data"
   ]
  },
  {
   "cell_type": "code",
   "execution_count": 13,
   "metadata": {
    "hidden": true
   },
   "outputs": [
    {
     "name": "stderr",
     "output_type": "stream",
     "text": [
      "/home/LoganTheKid/anaconda3/lib/python3.6/site-packages/sklearn/model_selection/_split.py:2179: FutureWarning: From version 0.21, test_size will always complement train_size unless both are specified.\n",
      "  FutureWarning)\n"
     ]
    },
    {
     "data": {
      "text/plain": [
       "0.9555555555555556"
      ]
     },
     "execution_count": 13,
     "metadata": {},
     "output_type": "execute_result"
    }
   ],
   "source": [
    "iris = datasets.load_iris()\n",
    "\n",
    "x_tr, x_test, y_tr, y_test = train_test_split(iris.data, iris.target, train_size= 0.7)"
   ]
  },
  {
   "cell_type": "markdown",
   "metadata": {
    "heading_collapsed": true
   },
   "source": [
    "### Part 2 - Generate png file to visualize the tree"
   ]
  },
  {
   "cell_type": "code",
   "execution_count": 27,
   "metadata": {
    "hidden": true
   },
   "outputs": [
    {
     "data": {
      "text/plain": [
       "True"
      ]
     },
     "execution_count": 27,
     "metadata": {},
     "output_type": "execute_result"
    }
   ],
   "source": [
    "tree_clsfr = tree.DecisionTreeClassifier()\n",
    "tree_clsfr.fit(x_tr, y_tr)\n",
    "tree_clsfr.score(x_test, y_test)\n",
    "\n",
    "tree_graph = tree.export_graphviz(tree_clsfr)\n",
    "graph = pdp.graph_from_dot_data(tree_graph)\n",
    "colors = ('turquoise', 'orange')\n",
    "edges = clcs.defaultdict(list)\n",
    "\n",
    "for edge in graph.get_edge_list():\n",
    "    edges[edge.get_source()].append(int(edge.get_destination()))\n",
    "\n",
    "for edge in edges:\n",
    "    edges[edge].sort()    \n",
    "    for i in range(2):\n",
    "        dest = graph.get_node(str(edges[edge][i]))[0]\n",
    "        dest.set_fillcolor(colors[i])\n",
    "\n",
    "graph.write_png('iris_tree.png')"
   ]
  },
  {
   "cell_type": "markdown",
   "metadata": {
    "heading_collapsed": true
   },
   "source": [
    "### Part 5 - Pruning the tree"
   ]
  },
  {
   "cell_type": "code",
   "execution_count": 114,
   "metadata": {
    "hidden": true
   },
   "outputs": [
    {
     "name": "stdout",
     "output_type": "stream",
     "text": [
      "For max_depth = 3, the accuracy = 0.911111.5\n",
      "For max_depth = 4, the accuracy = 0.911111.5\n",
      "For max_depth = 5, the accuracy = 0.933333.5\n",
      "For max_depth = 6, the accuracy = 0.933333.5\n"
     ]
    },
    {
     "name": "stderr",
     "output_type": "stream",
     "text": [
      "/home/LoganTheKid/anaconda3/lib/python3.6/site-packages/sklearn/model_selection/_split.py:2179: FutureWarning: From version 0.21, test_size will always complement train_size unless both are specified.\n",
      "  FutureWarning)\n"
     ]
    }
   ],
   "source": [
    "iris = datasets.load_iris()\n",
    "\n",
    "x_tr, x_test, y_tr, y_test = train_test_split(iris.data, iris.target, train_size= 0.7)\n",
    "\n",
    "for X in np.arange(3,7):\n",
    "    tree_clsfr = tree.DecisionTreeClassifier()\n",
    "    tree_clsfr.fit(x_tr, y_tr)\n",
    "    print(\"For max_depth = %d, the accuracy = %f.5\" % (X, tree_clsfr.score(x_test, y_test) ) )"
   ]
  },
  {
   "cell_type": "markdown",
   "metadata": {},
   "source": [
    "## Balance Data"
   ]
  },
  {
   "cell_type": "markdown",
   "metadata": {},
   "source": [
    "This has:\n",
    "- Categorical data\n",
    "- Classification"
   ]
  },
  {
   "cell_type": "markdown",
   "metadata": {
    "heading_collapsed": true
   },
   "source": [
    "### Part 1 - Organize the data"
   ]
  },
  {
   "cell_type": "code",
   "execution_count": 69,
   "metadata": {
    "hidden": true
   },
   "outputs": [
    {
     "name": "stderr",
     "output_type": "stream",
     "text": [
      "/home/LoganTheKid/anaconda3/lib/python3.6/site-packages/sklearn/model_selection/_split.py:2179: FutureWarning: From version 0.21, test_size will always complement train_size unless both are specified.\n",
      "  FutureWarning)\n"
     ]
    }
   ],
   "source": [
    "data = open(\"balance_scale.txt\",\"rt\")\n",
    "contents = data.readlines()\n",
    "data.close()\n",
    "#print( contents )  # it's ugly. \n",
    "\n",
    "# Turns the string version of the data into floats in a 150x4 array\n",
    "bal_data = [[float(x.split(',')[1]),\n",
    "             float(x.split(',')[2]),\n",
    "             float(x.split(',')[3]),\n",
    "             float((x.split(',')[4]).split('\\n')[0])] for x in contents]\n",
    "#print(bal_data)\n",
    "## gets the iris names in stings 'setosa', 'versicolor', and 'virginica'\n",
    "bal_target = [ x.split(',')[0] for x in contents ]\n",
    "## dictionary to make recasting iris names intointegers easy\n",
    "targ_vals = {'L':0, 'B':1, 'R':2}\n",
    "## loop to recasting iris names into integers\n",
    "for i,name in enumerate(bal_target):\n",
    "    bal_target[i] = targ_vals[name]\n",
    "    \n",
    "x_tr, x_test, y_tr, y_test = train_test_split(bal_data, bal_target, train_size= 0.7)"
   ]
  },
  {
   "cell_type": "markdown",
   "metadata": {
    "heading_collapsed": true
   },
   "source": [
    "### Part 2 - Generate png file to visualize the tree"
   ]
  },
  {
   "cell_type": "code",
   "execution_count": 70,
   "metadata": {
    "hidden": true
   },
   "outputs": [
    {
     "data": {
      "text/plain": [
       "True"
      ]
     },
     "execution_count": 70,
     "metadata": {},
     "output_type": "execute_result"
    }
   ],
   "source": [
    "tree_clsfr = tree.DecisionTreeClassifier()\n",
    "tree_clsfr.fit(x_tr, y_tr)\n",
    "tree_clsfr.score(x_test, y_test)\n",
    "\n",
    "tree_graph = tree.export_graphviz(tree_clsfr)\n",
    "graph = pdp.graph_from_dot_data(tree_graph)\n",
    "colors = ('turquoise', 'orange')\n",
    "edges = clcs.defaultdict(list)\n",
    "\n",
    "for edge in graph.get_edge_list():\n",
    "    edges[edge.get_source()].append(int(edge.get_destination()))\n",
    "\n",
    "for edge in edges:\n",
    "    edges[edge].sort()    \n",
    "    for i in range(2):\n",
    "        dest = graph.get_node(str(edges[edge][i]))[0]\n",
    "        dest.set_fillcolor(colors[i])\n",
    "\n",
    "graph.write_png('balance_tree.png')"
   ]
  },
  {
   "cell_type": "markdown",
   "metadata": {
    "heading_collapsed": true
   },
   "source": [
    "### Part 3 - Trying different approaches for catagorical data"
   ]
  },
  {
   "cell_type": "code",
   "execution_count": 100,
   "metadata": {
    "hidden": true
   },
   "outputs": [
    {
     "name": "stdout",
     "output_type": "stream",
     "text": [
      "label encoding:  0.7127659574468085\n",
      "one-hot encoding:  0.7659574468085106\n"
     ]
    },
    {
     "name": "stderr",
     "output_type": "stream",
     "text": [
      "/home/LoganTheKid/anaconda3/lib/python3.6/site-packages/sklearn/model_selection/_split.py:2179: FutureWarning: From version 0.21, test_size will always complement train_size unless both are specified.\n",
      "  FutureWarning)\n",
      "/home/LoganTheKid/anaconda3/lib/python3.6/site-packages/sklearn/model_selection/_split.py:2179: FutureWarning: From version 0.21, test_size will always complement train_size unless both are specified.\n",
      "  FutureWarning)\n"
     ]
    }
   ],
   "source": [
    "tr_sz = .85\n",
    "################\n",
    "# LABEL ENCODING \n",
    "################\n",
    "data = open(\"balance_scale.txt\",\"rt\")\n",
    "contents = data.readlines()\n",
    "data.close()\n",
    "#print( contents )  # it's ugly. \n",
    "\n",
    "# Turns the string version of the data into floats in a 150x4 array\n",
    "bal_data = [[float(x.split(',')[1]),\n",
    "             float(x.split(',')[2]),\n",
    "             float(x.split(',')[3]),\n",
    "             float((x.split(',')[4]).split('\\n')[0])] for x in contents]\n",
    "#print(bal_data)\n",
    "## gets the iris names in stings 'setosa', 'versicolor', and 'virginica'\n",
    "bal_target = [ x.split(',')[0] for x in contents ]\n",
    "## dictionary to make recasting iris names intointegers easy\n",
    "targ_vals = {'L':0, 'B':1, 'R':2}\n",
    "## loop to recasting iris names into integers\n",
    "for i,name in enumerate(bal_target):\n",
    "    bal_target[i] = targ_vals[name]\n",
    "    \n",
    "x_tr, x_test, y_tr, y_test = train_test_split(bal_data, bal_target, train_size= tr_sz)\n",
    "tree_clsfr = tree.DecisionTreeClassifier()\n",
    "tree_clsfr.fit(x_tr, y_tr)\n",
    "print(\"label encoding: \",tree_clsfr.score(x_test, y_test) )\n",
    "\n",
    "\n",
    "######################\n",
    "# ONE-HOT-ENCODING\n",
    "######################\n",
    "pd_bal_data = pd.read_csv(\"balance_scale.txt\", names=['result','lw','ld','rw','rd'])\n",
    "pd_bal_data = pd.get_dummies(pd_bal_data, columns=['lw','ld','rw','rd'])\n",
    "\n",
    "bal_data = np.array( pd_bal_data )\n",
    "bal_train = np.array(  bal_data[:,range(1,21)] )\n",
    "bal_target = np.array( bal_data[:,0]           )\n",
    "\n",
    "targ_vals = {'L':0, 'B':1, 'R':2}\n",
    "## loop to recasting iris names into integers\n",
    "for i,name in enumerate(bal_target):\n",
    "    bal_target[i] = targ_vals[name]\n",
    "    \n",
    "X_train, X_test, y_train, y_test = train_test_split(bal_train, bal_target, train_size= tr_sz)\n",
    "X_train = X_train.astype('int')\n",
    "y_train = y_train.astype('int')\n",
    "X_test = X_test.astype('int')\n",
    "y_test = y_test.astype('int')\n",
    "\n",
    "tree_clsfr = tree.DecisionTreeClassifier()\n",
    "tree_clsfr.fit(X_train, y_train)\n",
    "print(\"one-hot encoding: \",tree_clsfr.score(X_test, y_test) )"
   ]
  },
  {
   "cell_type": "markdown",
   "metadata": {},
   "source": [
    "### Part 5 - Pruning the tree"
   ]
  },
  {
   "cell_type": "code",
   "execution_count": 118,
   "metadata": {},
   "outputs": [
    {
     "name": "stdout",
     "output_type": "stream",
     "text": [
      "For max_depth = 3, the accuracy = 0.781915.5\n",
      "For max_depth = 4, the accuracy = 0.792553.5\n",
      "For max_depth = 5, the accuracy = 0.771277.5\n",
      "For max_depth = 6, the accuracy = 0.787234.5\n",
      "For max_depth = 7, the accuracy = 0.776596.5\n",
      "For max_depth = 8, the accuracy = 0.776596.5\n",
      "For max_depth = 9, the accuracy = 0.776596.5\n",
      "For max_depth = 10, the accuracy = 0.792553.5\n"
     ]
    },
    {
     "name": "stderr",
     "output_type": "stream",
     "text": [
      "/home/LoganTheKid/anaconda3/lib/python3.6/site-packages/sklearn/model_selection/_split.py:2179: FutureWarning: From version 0.21, test_size will always complement train_size unless both are specified.\n",
      "  FutureWarning)\n"
     ]
    }
   ],
   "source": [
    "data = open(\"balance_scale.txt\",\"rt\")\n",
    "contents = data.readlines()\n",
    "data.close()\n",
    "#print( contents )  # it's ugly. \n",
    "\n",
    "# Turns the string version of the data into floats in a 150x4 array\n",
    "bal_data = [[float(x.split(',')[1]),\n",
    "             float(x.split(',')[2]),\n",
    "             float(x.split(',')[3]),\n",
    "             float((x.split(',')[4]).split('\\n')[0])] for x in contents]\n",
    "#print(bal_data)\n",
    "## gets the iris names in stings 'setosa', 'versicolor', and 'virginica'\n",
    "bal_target = [ x.split(',')[0] for x in contents ]\n",
    "## dictionary to make recasting iris names intointegers easy\n",
    "targ_vals = {'L':0, 'B':1, 'R':2}\n",
    "## loop to recasting iris names into integers\n",
    "for i,name in enumerate(bal_target):\n",
    "    bal_target[i] = targ_vals[name]\n",
    "    \n",
    "x_tr, x_test, y_tr, y_test = train_test_split(bal_data, bal_target, train_size= 0.7)\n",
    "\n",
    "\n",
    "\n",
    "for X in np.arange(3,11):\n",
    "    tree_clsfr = tree.DecisionTreeClassifier()\n",
    "    tree_clsfr.fit(x_tr, y_tr)\n",
    "    print(\"For max_depth = %d, the accuracy = %f.5\" % (X, tree_clsfr.score(x_test, y_test) ) )"
   ]
  }
 ],
 "metadata": {
  "kernelspec": {
   "display_name": "Python 3",
   "language": "python",
   "name": "python3"
  },
  "language_info": {
   "codemirror_mode": {
    "name": "ipython",
    "version": 3
   },
   "file_extension": ".py",
   "mimetype": "text/x-python",
   "name": "python",
   "nbconvert_exporter": "python",
   "pygments_lexer": "ipython3",
   "version": "3.6.3"
  }
 },
 "nbformat": 4,
 "nbformat_minor": 2
}
