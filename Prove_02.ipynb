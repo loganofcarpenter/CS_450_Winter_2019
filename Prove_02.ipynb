{
 "cells": [
  {
   "cell_type": "code",
   "execution_count": 10,
   "metadata": {
    "collapsed": false,
    "deletable": true,
    "editable": true
   },
   "outputs": [
    {
     "name": "stderr",
     "output_type": "stream",
     "text": [
      "/home/LoganTheKid/anaconda3/lib/python3.6/site-packages/h5py/__init__.py:34: FutureWarning: Conversion of the second argument of issubdtype from `float` to `np.floating` is deprecated. In future, it will be treated as `np.float64 == np.dtype(float).type`.\n",
      "  from ._conv import register_converters as _register_converters\n"
     ]
    }
   ],
   "source": [
    "import numpy as np\n",
    "import h5py as h5\n",
    "import scipy as sp\n",
    "from sklearn import datasets\n",
    "from sklearn.model_selection import train_test_split\n",
    "from sklearn.naive_bayes import GaussianNB\n",
    "from numpy import linalg as LA"
   ]
  },
  {
   "cell_type": "markdown",
   "metadata": {
    "deletable": true,
    "editable": true
   },
   "source": [
    "## Prove 01 code"
   ]
  },
  {
   "cell_type": "code",
   "execution_count": 11,
   "metadata": {
    "collapsed": true,
    "deletable": true,
    "editable": true,
    "scrolled": true
   },
   "outputs": [],
   "source": [
    "iris = datasets.load_iris()\n",
    "\n",
    "# Prepare Training/ Test Se\n",
    "x_tr, x_test, y_tr, y_test = train_test_split(iris.data, iris.target, train_size= 0.7)\n",
    "\n",
    "# Use an Existing Algorithm to Create a Model\n",
    "classifier = GaussianNB()\n",
    "classifier.fit(x_tr, y_tr)\n",
    "\n",
    "# Use That Model to Make Predictions\n",
    "targets_predicted = classifier.predict(x_test)\n",
    "\n",
    "correct = targets_predicted == y_test\n",
    "#print( sum(targets_predicted == y_test) )\n",
    "#print(\"Percent correct: %.2f \" % (100* np.sum(correct)/float(len(correct))) )"
   ]
  },
  {
   "cell_type": "markdown",
   "metadata": {
    "deletable": true,
    "editable": true
   },
   "source": [
    "# Prove 02"
   ]
  },
  {
   "cell_type": "markdown",
   "metadata": {
    "deletable": true,
    "editable": true
   },
   "source": [
    "## Part 1 - Implement basic kNN algorithm"
   ]
  },
  {
   "cell_type": "code",
   "execution_count": 77,
   "metadata": {
    "collapsed": true,
    "deletable": true,
    "editable": true
   },
   "outputs": [],
   "source": [
    "class kNN:\n",
    "    \n",
    "    def __init__(self, k=3):\n",
    "        self.k = k\n",
    "    \n",
    "    def fit(self, train_data, target_data):\n",
    "        self.train_data  = train_data\n",
    "        self.target_data = target_data\n",
    "    \n",
    "    # Returns the predictions for kNN\n",
    "    #     In the event of a tie for a data point k is increased until the tie is broken. \n",
    "    def predict(self, t_dat):\n",
    "        predictions = []\n",
    "        for row in t_dat:\n",
    "            # kp - is the k counter that goes up by 1 if there's a tie\n",
    "            # TIE - Keeps track if there's a tie\n",
    "            kp, kp_ERR_CK, TIE = 0, True, True\n",
    "            while TIE == True:\n",
    "                # get's the distance from the row to every other data point\n",
    "                dis = np.array( self.get_distance(row) )\n",
    "                \n",
    "                # gets the index of the k+kp closest data points\n",
    "                dis_index = np.array( [ np.argsort( dis )[x] for x in np.arange(self.k+kp) ] )\n",
    "                \n",
    "                # Sorts the Nearest Neighbors into an dictionary with the keys being the target classes and \n",
    "                #      the value in each key is the number of NN of that class.\n",
    "                NNs_count = { key: np.sum( key*np.ones(len(dis_index)) == y_tr[dis_index] ) for key in y_tr }\n",
    "\n",
    "                # Find the max key\n",
    "                max_key   = max(NNs_count.keys(), key=lambda k: NNs_count[k])\n",
    "                TIE       = False \n",
    "                # Check for ties\n",
    "                for key in NNs_count:\n",
    "                    if key != max_key and NNs_count[key] == NNs_count[max_key]:\n",
    "                        TIE = True\n",
    "                        kp += 1\n",
    "                # Add the most frequent value to the prediction list\n",
    "                if not(TIE): predictions.append(max_key)    \n",
    "                    \n",
    "                if kp>20 and kp_ERR_CK: \n",
    "                    kp_ERR_CK = False\n",
    "                    print(\"Too many ties - there's probably an error.\")\n",
    "                    \n",
    "        return predictions               \n",
    "            \n",
    "    def get_distance(self, point):\n",
    "        dis = []\n",
    "        for train_d in self.train_data:\n",
    "            dis.append( np.sum( (np.array(point) - np.array(train_d) )**2 ) )\n",
    "        return dis"
   ]
  },
  {
   "cell_type": "markdown",
   "metadata": {
    "deletable": true,
    "editable": true,
    "heading_collapsed": true
   },
   "source": [
    "## Part 2 - Be able to load and use the Iris dataset"
   ]
  },
  {
   "cell_type": "code",
   "execution_count": 20,
   "metadata": {
    "collapsed": false,
    "deletable": true,
    "editable": true,
    "hidden": true
   },
   "outputs": [
    {
     "name": "stdout",
     "output_type": "stream",
     "text": [
      "Percent correct: 93.33 \n"
     ]
    }
   ],
   "source": [
    "clfr = kNN(k = 4)\n",
    "clfr.fit(x_tr, y_tr)\n",
    "clfr_trg_predicted = clfr.predict(x_test)\n",
    "clfr_correct = clfr_trg_predicted == y_test\n",
    "print(\"Percent correct: %.2f \" % (100* np.sum(clfr_correct)/float(len(clfr_correct))) )"
   ]
  },
  {
   "cell_type": "markdown",
   "metadata": {
    "deletable": true,
    "editable": true,
    "heading_collapsed": true
   },
   "source": [
    "## Part 3 - Basic experimentation:"
   ]
  },
  {
   "cell_type": "markdown",
   "metadata": {
    "deletable": true,
    "editable": true,
    "hidden": true
   },
   "source": [
    "1. Play with different values of K\n",
    "\n",
    "2. Compare to an existing implementation"
   ]
  },
  {
   "cell_type": "code",
   "execution_count": 92,
   "metadata": {
    "collapsed": false,
    "deletable": true,
    "editable": true,
    "hidden": true
   },
   "outputs": [
    {
     "name": "stdout",
     "output_type": "stream",
     "text": [
      "My kNN Percent correct with      k = 1: 97.78\n",
      "sklearn kNN Percent correct with k = 1: 97.78 \n",
      "\n",
      "My kNN Percent correct with      k = 2: 95.56\n",
      "sklearn kNN Percent correct with k = 2: 93.33 \n",
      "\n",
      "My kNN Percent correct with      k = 3: 95.56\n",
      "sklearn kNN Percent correct with k = 3: 95.56 \n",
      "\n",
      "My kNN Percent correct with      k = 4: 93.33\n",
      "sklearn kNN Percent correct with k = 4: 91.11 \n",
      "\n",
      "My kNN Percent correct with      k = 5: 93.33\n",
      "sklearn kNN Percent correct with k = 5: 93.33 \n",
      "\n",
      "My kNN Percent correct with      k = 6: 97.78\n",
      "sklearn kNN Percent correct with k = 6: 93.33 \n",
      "\n",
      "My kNN Percent correct with      k = 7: 97.78\n",
      "sklearn kNN Percent correct with k = 7: 97.78 \n",
      "\n",
      "My kNN Percent correct with      k = 8: 97.78\n",
      "sklearn kNN Percent correct with k = 8: 93.33 \n",
      "\n",
      "My kNN Percent correct with      k = 9: 97.78\n",
      "sklearn kNN Percent correct with k = 9: 97.78 \n",
      "\n",
      "My kNN Percent correct with      k = 10: 95.56\n",
      "sklearn kNN Percent correct with k = 10: 95.56 \n",
      "\n",
      "My kNN Percent correct with      k = 11: 95.56\n",
      "sklearn kNN Percent correct with k = 11: 95.56 \n",
      "\n",
      "My kNN Percent correct with      k = 12: 93.33\n",
      "sklearn kNN Percent correct with k = 12: 93.33 \n",
      "\n"
     ]
    }
   ],
   "source": [
    "from sklearn.neighbors import KNeighborsClassifier\n",
    "\n",
    "for k in np.arange(12)+1:\n",
    "    clfr = kNN(k = k)\n",
    "    clfr.fit(x_tr, y_tr)\n",
    "    clfr_trg_predicted = clfr.predict(x_test)\n",
    "    clfr_correct = clfr_trg_predicted == y_test\n",
    "    print(\"My kNN Percent correct with      k = %i: %.2f\" % (k,100* np.sum(clfr_correct)/float(len(clfr_correct))))\n",
    "        \n",
    "    classifier = KNeighborsClassifier(n_neighbors=k)\n",
    "    classifier.fit(x_tr, y_tr)\n",
    "    predictions = classifier.predict(x_test)\n",
    "    skl_cor = predictions == y_test\n",
    "    print(\"sklearn kNN Percent correct with k = %i: %.2f\" % (k,100*np.sum(skl_cor)/float(len(skl_cor))),\"\\n\")"
   ]
  },
  {
   "cell_type": "markdown",
   "metadata": {
    "deletable": true,
    "editable": true
   },
   "source": [
    "# Above and Beyond"
   ]
  },
  {
   "cell_type": "markdown",
   "metadata": {
    "deletable": true,
    "editable": true,
    "heading_collapsed": true
   },
   "source": [
    "## Experiment with more datasets"
   ]
  },
  {
   "cell_type": "markdown",
   "metadata": {
    "deletable": true,
    "editable": true,
    "heading_collapsed": true,
    "hidden": true
   },
   "source": [
    "### Read in Balance Data From File"
   ]
  },
  {
   "cell_type": "markdown",
   "metadata": {
    "deletable": true,
    "editable": true,
    "hidden": true
   },
   "source": [
    "1. Title: Balance Scale Weight & Distance Database\n",
    "2. Relevant Information: \n",
    "\tThis data set was generated to model psychological\n",
    "\texperimental results.  Each example is classified as having the\n",
    "\tbalance scale tip to the right, tip to the left, or be\n",
    "\tbalanced.  The attributes are the left weight, the left\n",
    "\tdistance, the right weight, and the right distance.  The\n",
    "\tcorrect way to find the class is the greater of \n",
    "\t(left-distance * left-weight) and (right-distance *\n",
    "\tright-weight).  If they are equal, it is balanced.\n",
    "3. Number of Instances: 625 (49 balanced, 288 left, 288 right)\n",
    "\n",
    "4. Number of Attributes: 4 (numeric) + class name = 5\n",
    "\n",
    "5. Attribute Information:\n",
    "\t1. Class Name: 3 (L, B, R)\n",
    "\t2. Left-Weight: 5 (1, 2, 3, 4, 5)\n",
    "\t3. Left-Distance: 5 (1, 2, 3, 4, 5)\n",
    "\t4. Right-Weight: 5 (1, 2, 3, 4, 5)\n",
    "\t5. Right-Distance: 5 (1, 2, 3, 4, 5)\n",
    "\n",
    "6. Missing Attribute Values: \n",
    "\tnone\n",
    "\n",
    "7. Class Distribution: \n",
    "   1. 46.08 percent are L\n",
    "   2. 07.84 percent are B\n",
    "   3. 46.08 percent are R"
   ]
  },
  {
   "cell_type": "code",
   "execution_count": 9,
   "metadata": {
    "collapsed": true,
    "deletable": true,
    "editable": true,
    "hidden": true,
    "scrolled": true
   },
   "outputs": [],
   "source": [
    "data = open(\"balance_scale.txt\",\"rt\")\n",
    "contents = data.readlines()\n",
    "data.close()\n",
    "#print( contents )  # it's ugly. \n",
    "\n",
    "# Turns the string version of the data into floats in a 150x4 array\n",
    "bal_data = [[float(x.split(',')[1]),\n",
    "             float(x.split(',')[2]),\n",
    "             float(x.split(',')[3]),\n",
    "             float((x.split(',')[4]).split('\\n')[0])] for x in contents]\n",
    "#print(bal_data)\n",
    "## gets the iris names in stings 'setosa', 'versicolor', and 'virginica'\n",
    "bal_target = [ x.split(',')[0] for x in contents ]\n",
    "## dictionary to make recasting iris names intointegers easy\n",
    "targ_vals = {'L':0, 'B':1, 'R':2}\n",
    "## loop to recasting iris names into integers\n",
    "for i,name in enumerate(bal_target):\n",
    "    bal_target[i] = targ_vals[name]\n",
    "#print( bal_target ) # it worked"
   ]
  },
  {
   "cell_type": "code",
   "execution_count": 13,
   "metadata": {
    "collapsed": false,
    "deletable": true,
    "editable": true,
    "hidden": true,
    "scrolled": true
   },
   "outputs": [
    {
     "name": "stderr",
     "output_type": "stream",
     "text": [
      "/home/LoganTheKid/anaconda3/lib/python3.6/site-packages/sklearn/model_selection/_split.py:2179: FutureWarning: From version 0.21, test_size will always complement train_size unless both are specified.\n",
      "  FutureWarning)\n"
     ]
    }
   ],
   "source": [
    "x_tr, x_test, y_tr, y_test = train_test_split(bal_data, bal_target, train_size= 0.7)"
   ]
  },
  {
   "cell_type": "code",
   "execution_count": 22,
   "metadata": {
    "collapsed": false,
    "deletable": true,
    "editable": true,
    "hidden": true
   },
   "outputs": [
    {
     "name": "stdout",
     "output_type": "stream",
     "text": [
      "Percent correct: 93.33 \n"
     ]
    }
   ],
   "source": [
    "clfr = kNN(k = 7)\n",
    "clfr.fit(x_tr, y_tr)\n",
    "clfr_trg_predicted = clfr.predict(x_test)\n",
    "clfr_correct = clfr_trg_predicted == y_test\n",
    "print(\"Percent correct: %.2f \" % (100* np.sum(clfr_correct)/float(len(clfr_correct))) )"
   ]
  },
  {
   "cell_type": "code",
   "execution_count": 23,
   "metadata": {
    "collapsed": false,
    "deletable": true,
    "editable": true,
    "hidden": true
   },
   "outputs": [
    {
     "name": "stdout",
     "output_type": "stream",
     "text": [
      "My kNN Percent correct with      k = 1: 95.56\n",
      "sklearn kNN Percent correct with k = 1: 95.56 \n",
      "\n",
      "My kNN Percent correct with      k = 2: 95.56\n",
      "sklearn kNN Percent correct with k = 2: 91.11 \n",
      "\n",
      "My kNN Percent correct with      k = 3: 95.56\n",
      "sklearn kNN Percent correct with k = 3: 95.56 \n",
      "\n",
      "My kNN Percent correct with      k = 4: 93.33\n",
      "sklearn kNN Percent correct with k = 4: 91.11 \n",
      "\n",
      "My kNN Percent correct with      k = 5: 93.33\n",
      "sklearn kNN Percent correct with k = 5: 93.33 \n",
      "\n",
      "My kNN Percent correct with      k = 6: 93.33\n",
      "sklearn kNN Percent correct with k = 6: 93.33 \n",
      "\n",
      "My kNN Percent correct with      k = 7: 93.33\n",
      "sklearn kNN Percent correct with k = 7: 93.33 \n",
      "\n",
      "My kNN Percent correct with      k = 8: 93.33\n",
      "sklearn kNN Percent correct with k = 8: 93.33 \n",
      "\n",
      "My kNN Percent correct with      k = 9: 93.33\n",
      "sklearn kNN Percent correct with k = 9: 93.33 \n",
      "\n",
      "My kNN Percent correct with      k = 10: 95.56\n",
      "sklearn kNN Percent correct with k = 10: 93.33 \n",
      "\n",
      "My kNN Percent correct with      k = 11: 95.56\n",
      "sklearn kNN Percent correct with k = 11: 95.56 \n",
      "\n",
      "My kNN Percent correct with      k = 12: 91.11\n",
      "sklearn kNN Percent correct with k = 12: 91.11 \n",
      "\n"
     ]
    }
   ],
   "source": [
    "from sklearn.neighbors import KNeighborsClassifier\n",
    "\n",
    "for k in np.arange(12)+1:\n",
    "    clfr = kNN(k = k)\n",
    "    clfr.fit(x_tr, y_tr)\n",
    "    clfr_trg_predicted = clfr.predict(x_test)\n",
    "    clfr_correct = clfr_trg_predicted == y_test\n",
    "    print(\"My kNN Percent correct with      k = %i: %.2f\" % (k,100* np.sum(clfr_correct)/float(len(clfr_correct))))\n",
    "        \n",
    "    classifier = KNeighborsClassifier(n_neighbors=k)\n",
    "    classifier.fit(x_tr, y_tr)\n",
    "    predictions = classifier.predict(x_test)\n",
    "    skl_cor = predictions == y_test\n",
    "    print(\"sklearn kNN Percent correct with k = %i: %.2f\" % (k,100*np.sum(skl_cor)/float(len(skl_cor))),\"\\n\")"
   ]
  },
  {
   "cell_type": "markdown",
   "metadata": {
    "deletable": true,
    "editable": true,
    "heading_collapsed": true,
    "hidden": true
   },
   "source": [
    "### Read in ionosphere Data From File"
   ]
  },
  {
   "cell_type": "markdown",
   "metadata": {
    "deletable": true,
    "editable": true,
    "hidden": true
   },
   "source": [
    "1. Title: Johns Hopkins University Ionosphere database\n",
    "\n",
    "2. Relevant Information:\n",
    "   This radar data was collected by a system in Goose Bay, Labrador.  This\n",
    "   system consists of a phased array of 16 high-frequency antennas with a\n",
    "   total transmitted power on the order of 6.4 kilowatts.  See the paper\n",
    "   for more details.  The targets were free electrons in the ionosphere.\n",
    "   \"Good\" radar returns are those showing evidence of some type of structure \n",
    "   in the ionosphere.  \"Bad\" returns are those that do not; their signals pass\n",
    "   through the ionosphere.  \n",
    "\n",
    "   Received signals were processed using an autocorrelation function whose\n",
    "   arguments are the time of a pulse and the pulse number.  There were 17\n",
    "   pulse numbers for the Goose Bay system.  Instances in this databse are\n",
    "   described by 2 attributes per pulse number, corresponding to the complex\n",
    "   values returned by the function resulting from the complex electromagnetic\n",
    "   signal.\n",
    "\n",
    "3. Number of Instances: 351\n",
    "\n",
    "4. Number of Attributes: 34 plus the class attribute\n",
    "   -- All 34 predictor attributes are continuous\n",
    "\n",
    "5. Attribute Information:     \n",
    "   -- All 34 are continuous, as described above\n",
    "   -- The 35th attribute is either \"good\" or \"bad\" according to the definition\n",
    "      summarized above.  This is a binary classification task.\n",
    "\n",
    "6. Missing Values: None\n",
    "\n"
   ]
  },
  {
   "cell_type": "code",
   "execution_count": 81,
   "metadata": {
    "collapsed": false,
    "deletable": true,
    "editable": true,
    "hidden": true,
    "scrolled": true
   },
   "outputs": [
    {
     "name": "stderr",
     "output_type": "stream",
     "text": [
      "/home/LoganTheKid/anaconda3/lib/python3.6/site-packages/sklearn/model_selection/_split.py:2179: FutureWarning: From version 0.21, test_size will always complement train_size unless both are specified.\n",
      "  FutureWarning)\n"
     ]
    },
    {
     "name": "stdout",
     "output_type": "stream",
     "text": [
      "Percent correct: 83.02 \n"
     ]
    }
   ],
   "source": [
    "import pandas as pd\n",
    "from copy import deepcopy\n",
    "data = pd.read_csv(\"ionosphere_data.txt\", header=None)\n",
    "\n",
    "\n",
    "ion_train  = np.asarray( data[np.arange(34)] )\n",
    "ion_target = np.asarray( data[34] )\n",
    "\n",
    "targ_vals = {'g':0, 'b':1}\n",
    "## loop to recasting iris names into integers\n",
    "for i,name in enumerate(ion_target):\n",
    "    ion_target[i] = targ_vals[name]\n",
    "\n",
    "#print( ion_train )\n",
    "#print( data[34])\n",
    "x_tr, x_test, y_tr, y_test = train_test_split(ion_train, ion_target, train_size= 0.7)\n",
    "\n",
    "clfr = kNN(k = 12)\n",
    "clfr.fit(x_tr, y_tr)\n",
    "clfr_trg_predicted = clfr.predict(x_test)\n",
    "clfr_correct = clfr_trg_predicted == y_test\n",
    "print(\"Percent correct: %.2f \" % (100* np.sum(clfr_correct)/float(len(clfr_correct))) )"
   ]
  },
  {
   "cell_type": "code",
   "execution_count": 86,
   "metadata": {
    "collapsed": false,
    "deletable": true,
    "editable": true,
    "hidden": true
   },
   "outputs": [
    {
     "name": "stdout",
     "output_type": "stream",
     "text": [
      "My kNN Percent correct with      k = 8: 83.02\n",
      "sklearn kNN Percent correct with k = 8: 79.25 \n",
      "\n",
      "My kNN Percent correct with      k = 9: 83.02\n",
      "sklearn kNN Percent correct with k = 9: 83.02 \n",
      "\n",
      "My kNN Percent correct with      k = 10: 82.08\n",
      "sklearn kNN Percent correct with k = 10: 79.25 \n",
      "\n",
      "My kNN Percent correct with      k = 11: 82.08\n",
      "sklearn kNN Percent correct with k = 11: 82.08 \n",
      "\n",
      "My kNN Percent correct with      k = 12: 83.02\n",
      "sklearn kNN Percent correct with k = 12: 80.19 \n",
      "\n",
      "My kNN Percent correct with      k = 13: 83.02\n",
      "sklearn kNN Percent correct with k = 13: 83.02 \n",
      "\n",
      "My kNN Percent correct with      k = 14: 81.13\n",
      "sklearn kNN Percent correct with k = 14: 77.36 \n",
      "\n",
      "My kNN Percent correct with      k = 15: 81.13\n",
      "sklearn kNN Percent correct with k = 15: 81.13 \n",
      "\n",
      "My kNN Percent correct with      k = 16: 81.13\n",
      "sklearn kNN Percent correct with k = 16: 80.19 \n",
      "\n",
      "My kNN Percent correct with      k = 17: 81.13\n",
      "sklearn kNN Percent correct with k = 17: 81.13 \n",
      "\n",
      "My kNN Percent correct with      k = 18: 80.19\n",
      "sklearn kNN Percent correct with k = 18: 79.25 \n",
      "\n",
      "My kNN Percent correct with      k = 19: 80.19\n",
      "sklearn kNN Percent correct with k = 19: 80.19 \n",
      "\n",
      "My kNN Percent correct with      k = 20: 79.25\n",
      "sklearn kNN Percent correct with k = 20: 79.25 \n",
      "\n"
     ]
    }
   ],
   "source": [
    "from sklearn.neighbors import KNeighborsClassifier\n",
    "\n",
    "#for some reason KNeighborsClassifier() needed this to work...?\n",
    "y_tr = y_tr.astype('int')\n",
    "for k in np.arange(7,20)+1:\n",
    "    clfr = kNN(k = k)\n",
    "    clfr.fit(x_tr, y_tr)\n",
    "    clfr_trg_predicted = clfr.predict(x_test)\n",
    "    clfr_correct = clfr_trg_predicted == y_test\n",
    "    print(\"My kNN Percent correct with      k = %i: %.2f\" % (k,100* np.sum(clfr_correct)/float(len(clfr_correct))))\n",
    "        \n",
    "    \n",
    "    classifier = KNeighborsClassifier(n_neighbors=k)\n",
    "    classifier.fit(x_tr, y_tr)\n",
    "    predictions = classifier.predict(x_test)\n",
    "    skl_cor = predictions == y_test\n",
    "    print(\"sklearn kNN Percent correct with k = %i: %.2f\" % (k,100*np.sum(skl_cor)/float(len(skl_cor))),\"\\n\")"
   ]
  },
  {
   "cell_type": "markdown",
   "metadata": {
    "deletable": true,
    "editable": true
   },
   "source": [
    "## KD-Tree"
   ]
  },
  {
   "cell_type": "markdown",
   "metadata": {
    "deletable": true,
    "editable": true
   },
   "source": [
    "For the record I spent about ~1 hour reading about KD-Trees, ~1.5 hours looking up how to make them, and ~1 hour trying to impliment it. So I understand what's going on, but I didn't get it working. "
   ]
  }
 ],
 "metadata": {
  "kernelspec": {
   "display_name": "Python 3",
   "language": "python",
   "name": "python3"
  },
  "language_info": {
   "codemirror_mode": {
    "name": "ipython",
    "version": 3
   },
   "file_extension": ".py",
   "mimetype": "text/x-python",
   "name": "python",
   "nbconvert_exporter": "python",
   "pygments_lexer": "ipython3",
   "version": "3.5.2"
  }
 },
 "nbformat": 4,
 "nbformat_minor": 2
}
